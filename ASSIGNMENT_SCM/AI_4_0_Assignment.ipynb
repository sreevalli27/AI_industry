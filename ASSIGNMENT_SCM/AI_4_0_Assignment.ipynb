{
  "nbformat": 4,
  "nbformat_minor": 0,
  "metadata": {
    "colab": {
      "provenance": []
    },
    "kernelspec": {
      "name": "python3",
      "display_name": "Python 3"
    },
    "language_info": {
      "name": "python"
    }
  },
  "cells": [
    {
      "cell_type": "code",
      "execution_count": null,
      "metadata": {
        "id": "5kl4j4ODyOaV"
      },
      "outputs": [],
      "source": [
        "import pandas as pd\n",
        "import numpy as np\n",
        "import matplotlib.pyplot as plt\n",
        "import seaborn as sns\n",
        "\n",
        "\n",
        "from sklearn.model_selection import train_test_split, RandomizedSearchCV\n",
        "from sklearn.metrics import mean_squared_error, r2_score\n",
        "from sklearn.preprocessing import StandardScaler\n",
        "\n",
        "# Regression Algorithms\n",
        "from sklearn.linear_model import LinearRegression, Ridge, Lasso, ElasticNetCV, SGDRegressor\n",
        "from sklearn.kernel_ridge import KernelRidge\n",
        "from sklearn.svm import SVR\n",
        "from sklearn.neighbors import KNeighborsRegressor\n",
        "from sklearn.tree import DecisionTreeRegressor\n",
        "from sklearn.ensemble import GradientBoostingRegressor,HistGradientBoostingRegressor,RandomForestRegressor"
      ]
    },
    {
      "cell_type": "code",
      "source": [
        "df = pd.read_csv('Traindata.csv')\n",
        "df.shape"
      ],
      "metadata": {
        "colab": {
          "base_uri": "https://localhost:8080/"
        },
        "outputId": "55cb1fb8-e86a-48d7-e056-4bf0835d81f5",
        "id": "TPIug5N5eBod"
      },
      "execution_count": null,
      "outputs": [
        {
          "output_type": "execute_result",
          "data": {
            "text/plain": [
              "(150150, 9)"
            ]
          },
          "metadata": {},
          "execution_count": 2
        }
      ]
    },
    {
      "cell_type": "code",
      "source": [
        "df.info()"
      ],
      "metadata": {
        "colab": {
          "base_uri": "https://localhost:8080/"
        },
        "outputId": "a2fd9706-a735-4ad4-98d9-8504b64714c9",
        "id": "gdkcfMZteBod"
      },
      "execution_count": null,
      "outputs": [
        {
          "output_type": "stream",
          "name": "stdout",
          "text": [
            "<class 'pandas.core.frame.DataFrame'>\n",
            "RangeIndex: 150150 entries, 0 to 150149\n",
            "Data columns (total 9 columns):\n",
            " #   Column           Non-Null Count   Dtype  \n",
            "---  ------           --------------   -----  \n",
            " 0   record_ID        150150 non-null  int64  \n",
            " 1   week             150150 non-null  object \n",
            " 2   store_id         150150 non-null  int64  \n",
            " 3   sku_id           150150 non-null  int64  \n",
            " 4   total_price      150149 non-null  float64\n",
            " 5   base_price       150150 non-null  float64\n",
            " 6   is_featured_sku  150150 non-null  int64  \n",
            " 7   is_display_sku   150150 non-null  int64  \n",
            " 8   units_sold       150150 non-null  int64  \n",
            "dtypes: float64(2), int64(6), object(1)\n",
            "memory usage: 10.3+ MB\n"
          ]
        }
      ]
    },
    {
      "cell_type": "code",
      "source": [
        "df.head(1)"
      ],
      "metadata": {
        "colab": {
          "base_uri": "https://localhost:8080/",
          "height": 81
        },
        "outputId": "5ad26e83-27bd-432d-d090-81f8e436b143",
        "id": "BsgajTdHeBod"
      },
      "execution_count": null,
      "outputs": [
        {
          "output_type": "execute_result",
          "data": {
            "text/plain": [
              "   record_ID        week  store_id  sku_id  total_price  base_price  \\\n",
              "0          1  17-01-2011      8091  216418      99.0375    111.8625   \n",
              "\n",
              "   is_featured_sku  is_display_sku  units_sold  \n",
              "0                0               0          20  "
            ],
            "text/html": [
              "\n",
              "  <div id=\"df-3e4ff22c-4d9a-486d-9df8-d3d17ddaa2ca\" class=\"colab-df-container\">\n",
              "    <div>\n",
              "<style scoped>\n",
              "    .dataframe tbody tr th:only-of-type {\n",
              "        vertical-align: middle;\n",
              "    }\n",
              "\n",
              "    .dataframe tbody tr th {\n",
              "        vertical-align: top;\n",
              "    }\n",
              "\n",
              "    .dataframe thead th {\n",
              "        text-align: right;\n",
              "    }\n",
              "</style>\n",
              "<table border=\"1\" class=\"dataframe\">\n",
              "  <thead>\n",
              "    <tr style=\"text-align: right;\">\n",
              "      <th></th>\n",
              "      <th>record_ID</th>\n",
              "      <th>week</th>\n",
              "      <th>store_id</th>\n",
              "      <th>sku_id</th>\n",
              "      <th>total_price</th>\n",
              "      <th>base_price</th>\n",
              "      <th>is_featured_sku</th>\n",
              "      <th>is_display_sku</th>\n",
              "      <th>units_sold</th>\n",
              "    </tr>\n",
              "  </thead>\n",
              "  <tbody>\n",
              "    <tr>\n",
              "      <th>0</th>\n",
              "      <td>1</td>\n",
              "      <td>17-01-2011</td>\n",
              "      <td>8091</td>\n",
              "      <td>216418</td>\n",
              "      <td>99.0375</td>\n",
              "      <td>111.8625</td>\n",
              "      <td>0</td>\n",
              "      <td>0</td>\n",
              "      <td>20</td>\n",
              "    </tr>\n",
              "  </tbody>\n",
              "</table>\n",
              "</div>\n",
              "    <div class=\"colab-df-buttons\">\n",
              "\n",
              "  <div class=\"colab-df-container\">\n",
              "    <button class=\"colab-df-convert\" onclick=\"convertToInteractive('df-3e4ff22c-4d9a-486d-9df8-d3d17ddaa2ca')\"\n",
              "            title=\"Convert this dataframe to an interactive table.\"\n",
              "            style=\"display:none;\">\n",
              "\n",
              "  <svg xmlns=\"http://www.w3.org/2000/svg\" height=\"24px\" viewBox=\"0 -960 960 960\">\n",
              "    <path d=\"M120-120v-720h720v720H120Zm60-500h600v-160H180v160Zm220 220h160v-160H400v160Zm0 220h160v-160H400v160ZM180-400h160v-160H180v160Zm440 0h160v-160H620v160ZM180-180h160v-160H180v160Zm440 0h160v-160H620v160Z\"/>\n",
              "  </svg>\n",
              "    </button>\n",
              "\n",
              "  <style>\n",
              "    .colab-df-container {\n",
              "      display:flex;\n",
              "      gap: 12px;\n",
              "    }\n",
              "\n",
              "    .colab-df-convert {\n",
              "      background-color: #E8F0FE;\n",
              "      border: none;\n",
              "      border-radius: 50%;\n",
              "      cursor: pointer;\n",
              "      display: none;\n",
              "      fill: #1967D2;\n",
              "      height: 32px;\n",
              "      padding: 0 0 0 0;\n",
              "      width: 32px;\n",
              "    }\n",
              "\n",
              "    .colab-df-convert:hover {\n",
              "      background-color: #E2EBFA;\n",
              "      box-shadow: 0px 1px 2px rgba(60, 64, 67, 0.3), 0px 1px 3px 1px rgba(60, 64, 67, 0.15);\n",
              "      fill: #174EA6;\n",
              "    }\n",
              "\n",
              "    .colab-df-buttons div {\n",
              "      margin-bottom: 4px;\n",
              "    }\n",
              "\n",
              "    [theme=dark] .colab-df-convert {\n",
              "      background-color: #3B4455;\n",
              "      fill: #D2E3FC;\n",
              "    }\n",
              "\n",
              "    [theme=dark] .colab-df-convert:hover {\n",
              "      background-color: #434B5C;\n",
              "      box-shadow: 0px 1px 3px 1px rgba(0, 0, 0, 0.15);\n",
              "      filter: drop-shadow(0px 1px 2px rgba(0, 0, 0, 0.3));\n",
              "      fill: #FFFFFF;\n",
              "    }\n",
              "  </style>\n",
              "\n",
              "    <script>\n",
              "      const buttonEl =\n",
              "        document.querySelector('#df-3e4ff22c-4d9a-486d-9df8-d3d17ddaa2ca button.colab-df-convert');\n",
              "      buttonEl.style.display =\n",
              "        google.colab.kernel.accessAllowed ? 'block' : 'none';\n",
              "\n",
              "      async function convertToInteractive(key) {\n",
              "        const element = document.querySelector('#df-3e4ff22c-4d9a-486d-9df8-d3d17ddaa2ca');\n",
              "        const dataTable =\n",
              "          await google.colab.kernel.invokeFunction('convertToInteractive',\n",
              "                                                    [key], {});\n",
              "        if (!dataTable) return;\n",
              "\n",
              "        const docLinkHtml = 'Like what you see? Visit the ' +\n",
              "          '<a target=\"_blank\" href=https://colab.research.google.com/notebooks/data_table.ipynb>data table notebook</a>'\n",
              "          + ' to learn more about interactive tables.';\n",
              "        element.innerHTML = '';\n",
              "        dataTable['output_type'] = 'display_data';\n",
              "        await google.colab.output.renderOutput(dataTable, element);\n",
              "        const docLink = document.createElement('div');\n",
              "        docLink.innerHTML = docLinkHtml;\n",
              "        element.appendChild(docLink);\n",
              "      }\n",
              "    </script>\n",
              "  </div>\n",
              "\n",
              "    </div>\n",
              "  </div>\n"
            ]
          },
          "metadata": {},
          "execution_count": 4
        }
      ]
    },
    {
      "cell_type": "code",
      "source": [
        "df.dropna(inplace = True)\n",
        "df.isnull().sum()"
      ],
      "metadata": {
        "colab": {
          "base_uri": "https://localhost:8080/"
        },
        "outputId": "e0dbab7d-ac46-4256-bfcd-e59173b1a9e4",
        "id": "y-sOpNdAeBoe"
      },
      "execution_count": null,
      "outputs": [
        {
          "output_type": "execute_result",
          "data": {
            "text/plain": [
              "record_ID          0\n",
              "week               0\n",
              "store_id           0\n",
              "sku_id             0\n",
              "total_price        0\n",
              "base_price         0\n",
              "is_featured_sku    0\n",
              "is_display_sku     0\n",
              "units_sold         0\n",
              "dtype: int64"
            ]
          },
          "metadata": {},
          "execution_count": 5
        }
      ]
    },
    {
      "cell_type": "code",
      "source": [
        "df.duplicated().sum()"
      ],
      "metadata": {
        "colab": {
          "base_uri": "https://localhost:8080/"
        },
        "outputId": "8f8009c6-7794-4932-b3bc-633f9d80f15f",
        "id": "Z_lK4IoJeBoe"
      },
      "execution_count": null,
      "outputs": [
        {
          "output_type": "execute_result",
          "data": {
            "text/plain": [
              "0"
            ]
          },
          "metadata": {},
          "execution_count": 6
        }
      ]
    },
    {
      "cell_type": "code",
      "source": [
        "df.describe()"
      ],
      "metadata": {
        "colab": {
          "base_uri": "https://localhost:8080/",
          "height": 300
        },
        "outputId": "9459b308-abb3-409b-cd68-c2882be7be27",
        "id": "in2nHofeeBoe"
      },
      "execution_count": null,
      "outputs": [
        {
          "output_type": "execute_result",
          "data": {
            "text/plain": [
              "           record_ID       store_id         sku_id    total_price  \\\n",
              "count  150149.000000  150149.000000  150149.000000  150149.000000   \n",
              "mean   106270.971795    9199.420935  254761.195226     206.626751   \n",
              "std     61385.825580     615.593192   85547.587866     103.308516   \n",
              "min         1.000000    8023.000000  216233.000000      41.325000   \n",
              "25%     53111.000000    8562.000000  217217.000000     130.387500   \n",
              "50%    106226.000000    9371.000000  222087.000000     198.075000   \n",
              "75%    159452.000000    9731.000000  245338.000000     233.700000   \n",
              "max    212644.000000    9984.000000  679023.000000     562.162500   \n",
              "\n",
              "          base_price  is_featured_sku  is_display_sku     units_sold  \n",
              "count  150149.000000    150149.000000   150149.000000  150149.000000  \n",
              "mean      219.424262         0.095612        0.133201      51.674543  \n",
              "std       110.960204         0.294059        0.339793      60.207962  \n",
              "min        61.275000         0.000000        0.000000       1.000000  \n",
              "25%       133.237500         0.000000        0.000000      20.000000  \n",
              "50%       205.912500         0.000000        0.000000      35.000000  \n",
              "75%       234.412500         0.000000        0.000000      62.000000  \n",
              "max       562.162500         1.000000        1.000000    2876.000000  "
            ],
            "text/html": [
              "\n",
              "  <div id=\"df-1cffeb78-66d4-4be8-bc21-06d724500730\" class=\"colab-df-container\">\n",
              "    <div>\n",
              "<style scoped>\n",
              "    .dataframe tbody tr th:only-of-type {\n",
              "        vertical-align: middle;\n",
              "    }\n",
              "\n",
              "    .dataframe tbody tr th {\n",
              "        vertical-align: top;\n",
              "    }\n",
              "\n",
              "    .dataframe thead th {\n",
              "        text-align: right;\n",
              "    }\n",
              "</style>\n",
              "<table border=\"1\" class=\"dataframe\">\n",
              "  <thead>\n",
              "    <tr style=\"text-align: right;\">\n",
              "      <th></th>\n",
              "      <th>record_ID</th>\n",
              "      <th>store_id</th>\n",
              "      <th>sku_id</th>\n",
              "      <th>total_price</th>\n",
              "      <th>base_price</th>\n",
              "      <th>is_featured_sku</th>\n",
              "      <th>is_display_sku</th>\n",
              "      <th>units_sold</th>\n",
              "    </tr>\n",
              "  </thead>\n",
              "  <tbody>\n",
              "    <tr>\n",
              "      <th>count</th>\n",
              "      <td>150149.000000</td>\n",
              "      <td>150149.000000</td>\n",
              "      <td>150149.000000</td>\n",
              "      <td>150149.000000</td>\n",
              "      <td>150149.000000</td>\n",
              "      <td>150149.000000</td>\n",
              "      <td>150149.000000</td>\n",
              "      <td>150149.000000</td>\n",
              "    </tr>\n",
              "    <tr>\n",
              "      <th>mean</th>\n",
              "      <td>106270.971795</td>\n",
              "      <td>9199.420935</td>\n",
              "      <td>254761.195226</td>\n",
              "      <td>206.626751</td>\n",
              "      <td>219.424262</td>\n",
              "      <td>0.095612</td>\n",
              "      <td>0.133201</td>\n",
              "      <td>51.674543</td>\n",
              "    </tr>\n",
              "    <tr>\n",
              "      <th>std</th>\n",
              "      <td>61385.825580</td>\n",
              "      <td>615.593192</td>\n",
              "      <td>85547.587866</td>\n",
              "      <td>103.308516</td>\n",
              "      <td>110.960204</td>\n",
              "      <td>0.294059</td>\n",
              "      <td>0.339793</td>\n",
              "      <td>60.207962</td>\n",
              "    </tr>\n",
              "    <tr>\n",
              "      <th>min</th>\n",
              "      <td>1.000000</td>\n",
              "      <td>8023.000000</td>\n",
              "      <td>216233.000000</td>\n",
              "      <td>41.325000</td>\n",
              "      <td>61.275000</td>\n",
              "      <td>0.000000</td>\n",
              "      <td>0.000000</td>\n",
              "      <td>1.000000</td>\n",
              "    </tr>\n",
              "    <tr>\n",
              "      <th>25%</th>\n",
              "      <td>53111.000000</td>\n",
              "      <td>8562.000000</td>\n",
              "      <td>217217.000000</td>\n",
              "      <td>130.387500</td>\n",
              "      <td>133.237500</td>\n",
              "      <td>0.000000</td>\n",
              "      <td>0.000000</td>\n",
              "      <td>20.000000</td>\n",
              "    </tr>\n",
              "    <tr>\n",
              "      <th>50%</th>\n",
              "      <td>106226.000000</td>\n",
              "      <td>9371.000000</td>\n",
              "      <td>222087.000000</td>\n",
              "      <td>198.075000</td>\n",
              "      <td>205.912500</td>\n",
              "      <td>0.000000</td>\n",
              "      <td>0.000000</td>\n",
              "      <td>35.000000</td>\n",
              "    </tr>\n",
              "    <tr>\n",
              "      <th>75%</th>\n",
              "      <td>159452.000000</td>\n",
              "      <td>9731.000000</td>\n",
              "      <td>245338.000000</td>\n",
              "      <td>233.700000</td>\n",
              "      <td>234.412500</td>\n",
              "      <td>0.000000</td>\n",
              "      <td>0.000000</td>\n",
              "      <td>62.000000</td>\n",
              "    </tr>\n",
              "    <tr>\n",
              "      <th>max</th>\n",
              "      <td>212644.000000</td>\n",
              "      <td>9984.000000</td>\n",
              "      <td>679023.000000</td>\n",
              "      <td>562.162500</td>\n",
              "      <td>562.162500</td>\n",
              "      <td>1.000000</td>\n",
              "      <td>1.000000</td>\n",
              "      <td>2876.000000</td>\n",
              "    </tr>\n",
              "  </tbody>\n",
              "</table>\n",
              "</div>\n",
              "    <div class=\"colab-df-buttons\">\n",
              "\n",
              "  <div class=\"colab-df-container\">\n",
              "    <button class=\"colab-df-convert\" onclick=\"convertToInteractive('df-1cffeb78-66d4-4be8-bc21-06d724500730')\"\n",
              "            title=\"Convert this dataframe to an interactive table.\"\n",
              "            style=\"display:none;\">\n",
              "\n",
              "  <svg xmlns=\"http://www.w3.org/2000/svg\" height=\"24px\" viewBox=\"0 -960 960 960\">\n",
              "    <path d=\"M120-120v-720h720v720H120Zm60-500h600v-160H180v160Zm220 220h160v-160H400v160Zm0 220h160v-160H400v160ZM180-400h160v-160H180v160Zm440 0h160v-160H620v160ZM180-180h160v-160H180v160Zm440 0h160v-160H620v160Z\"/>\n",
              "  </svg>\n",
              "    </button>\n",
              "\n",
              "  <style>\n",
              "    .colab-df-container {\n",
              "      display:flex;\n",
              "      gap: 12px;\n",
              "    }\n",
              "\n",
              "    .colab-df-convert {\n",
              "      background-color: #E8F0FE;\n",
              "      border: none;\n",
              "      border-radius: 50%;\n",
              "      cursor: pointer;\n",
              "      display: none;\n",
              "      fill: #1967D2;\n",
              "      height: 32px;\n",
              "      padding: 0 0 0 0;\n",
              "      width: 32px;\n",
              "    }\n",
              "\n",
              "    .colab-df-convert:hover {\n",
              "      background-color: #E2EBFA;\n",
              "      box-shadow: 0px 1px 2px rgba(60, 64, 67, 0.3), 0px 1px 3px 1px rgba(60, 64, 67, 0.15);\n",
              "      fill: #174EA6;\n",
              "    }\n",
              "\n",
              "    .colab-df-buttons div {\n",
              "      margin-bottom: 4px;\n",
              "    }\n",
              "\n",
              "    [theme=dark] .colab-df-convert {\n",
              "      background-color: #3B4455;\n",
              "      fill: #D2E3FC;\n",
              "    }\n",
              "\n",
              "    [theme=dark] .colab-df-convert:hover {\n",
              "      background-color: #434B5C;\n",
              "      box-shadow: 0px 1px 3px 1px rgba(0, 0, 0, 0.15);\n",
              "      filter: drop-shadow(0px 1px 2px rgba(0, 0, 0, 0.3));\n",
              "      fill: #FFFFFF;\n",
              "    }\n",
              "  </style>\n",
              "\n",
              "    <script>\n",
              "      const buttonEl =\n",
              "        document.querySelector('#df-1cffeb78-66d4-4be8-bc21-06d724500730 button.colab-df-convert');\n",
              "      buttonEl.style.display =\n",
              "        google.colab.kernel.accessAllowed ? 'block' : 'none';\n",
              "\n",
              "      async function convertToInteractive(key) {\n",
              "        const element = document.querySelector('#df-1cffeb78-66d4-4be8-bc21-06d724500730');\n",
              "        const dataTable =\n",
              "          await google.colab.kernel.invokeFunction('convertToInteractive',\n",
              "                                                    [key], {});\n",
              "        if (!dataTable) return;\n",
              "\n",
              "        const docLinkHtml = 'Like what you see? Visit the ' +\n",
              "          '<a target=\"_blank\" href=https://colab.research.google.com/notebooks/data_table.ipynb>data table notebook</a>'\n",
              "          + ' to learn more about interactive tables.';\n",
              "        element.innerHTML = '';\n",
              "        dataTable['output_type'] = 'display_data';\n",
              "        await google.colab.output.renderOutput(dataTable, element);\n",
              "        const docLink = document.createElement('div');\n",
              "        docLink.innerHTML = docLinkHtml;\n",
              "        element.appendChild(docLink);\n",
              "      }\n",
              "    </script>\n",
              "  </div>\n",
              "\n",
              "\n",
              "<div id=\"df-502ebdff-b923-4e48-91e5-a2ac65ef832c\">\n",
              "  <button class=\"colab-df-quickchart\" onclick=\"quickchart('df-502ebdff-b923-4e48-91e5-a2ac65ef832c')\"\n",
              "            title=\"Suggest charts.\"\n",
              "            style=\"display:none;\">\n",
              "\n",
              "<svg xmlns=\"http://www.w3.org/2000/svg\" height=\"24px\"viewBox=\"0 0 24 24\"\n",
              "     width=\"24px\">\n",
              "    <g>\n",
              "        <path d=\"M19 3H5c-1.1 0-2 .9-2 2v14c0 1.1.9 2 2 2h14c1.1 0 2-.9 2-2V5c0-1.1-.9-2-2-2zM9 17H7v-7h2v7zm4 0h-2V7h2v10zm4 0h-2v-4h2v4z\"/>\n",
              "    </g>\n",
              "</svg>\n",
              "  </button>\n",
              "\n",
              "<style>\n",
              "  .colab-df-quickchart {\n",
              "      --bg-color: #E8F0FE;\n",
              "      --fill-color: #1967D2;\n",
              "      --hover-bg-color: #E2EBFA;\n",
              "      --hover-fill-color: #174EA6;\n",
              "      --disabled-fill-color: #AAA;\n",
              "      --disabled-bg-color: #DDD;\n",
              "  }\n",
              "\n",
              "  [theme=dark] .colab-df-quickchart {\n",
              "      --bg-color: #3B4455;\n",
              "      --fill-color: #D2E3FC;\n",
              "      --hover-bg-color: #434B5C;\n",
              "      --hover-fill-color: #FFFFFF;\n",
              "      --disabled-bg-color: #3B4455;\n",
              "      --disabled-fill-color: #666;\n",
              "  }\n",
              "\n",
              "  .colab-df-quickchart {\n",
              "    background-color: var(--bg-color);\n",
              "    border: none;\n",
              "    border-radius: 50%;\n",
              "    cursor: pointer;\n",
              "    display: none;\n",
              "    fill: var(--fill-color);\n",
              "    height: 32px;\n",
              "    padding: 0;\n",
              "    width: 32px;\n",
              "  }\n",
              "\n",
              "  .colab-df-quickchart:hover {\n",
              "    background-color: var(--hover-bg-color);\n",
              "    box-shadow: 0 1px 2px rgba(60, 64, 67, 0.3), 0 1px 3px 1px rgba(60, 64, 67, 0.15);\n",
              "    fill: var(--button-hover-fill-color);\n",
              "  }\n",
              "\n",
              "  .colab-df-quickchart-complete:disabled,\n",
              "  .colab-df-quickchart-complete:disabled:hover {\n",
              "    background-color: var(--disabled-bg-color);\n",
              "    fill: var(--disabled-fill-color);\n",
              "    box-shadow: none;\n",
              "  }\n",
              "\n",
              "  .colab-df-spinner {\n",
              "    border: 2px solid var(--fill-color);\n",
              "    border-color: transparent;\n",
              "    border-bottom-color: var(--fill-color);\n",
              "    animation:\n",
              "      spin 1s steps(1) infinite;\n",
              "  }\n",
              "\n",
              "  @keyframes spin {\n",
              "    0% {\n",
              "      border-color: transparent;\n",
              "      border-bottom-color: var(--fill-color);\n",
              "      border-left-color: var(--fill-color);\n",
              "    }\n",
              "    20% {\n",
              "      border-color: transparent;\n",
              "      border-left-color: var(--fill-color);\n",
              "      border-top-color: var(--fill-color);\n",
              "    }\n",
              "    30% {\n",
              "      border-color: transparent;\n",
              "      border-left-color: var(--fill-color);\n",
              "      border-top-color: var(--fill-color);\n",
              "      border-right-color: var(--fill-color);\n",
              "    }\n",
              "    40% {\n",
              "      border-color: transparent;\n",
              "      border-right-color: var(--fill-color);\n",
              "      border-top-color: var(--fill-color);\n",
              "    }\n",
              "    60% {\n",
              "      border-color: transparent;\n",
              "      border-right-color: var(--fill-color);\n",
              "    }\n",
              "    80% {\n",
              "      border-color: transparent;\n",
              "      border-right-color: var(--fill-color);\n",
              "      border-bottom-color: var(--fill-color);\n",
              "    }\n",
              "    90% {\n",
              "      border-color: transparent;\n",
              "      border-bottom-color: var(--fill-color);\n",
              "    }\n",
              "  }\n",
              "</style>\n",
              "\n",
              "  <script>\n",
              "    async function quickchart(key) {\n",
              "      const quickchartButtonEl =\n",
              "        document.querySelector('#' + key + ' button');\n",
              "      quickchartButtonEl.disabled = true;  // To prevent multiple clicks.\n",
              "      quickchartButtonEl.classList.add('colab-df-spinner');\n",
              "      try {\n",
              "        const charts = await google.colab.kernel.invokeFunction(\n",
              "            'suggestCharts', [key], {});\n",
              "      } catch (error) {\n",
              "        console.error('Error during call to suggestCharts:', error);\n",
              "      }\n",
              "      quickchartButtonEl.classList.remove('colab-df-spinner');\n",
              "      quickchartButtonEl.classList.add('colab-df-quickchart-complete');\n",
              "    }\n",
              "    (() => {\n",
              "      let quickchartButtonEl =\n",
              "        document.querySelector('#df-502ebdff-b923-4e48-91e5-a2ac65ef832c button');\n",
              "      quickchartButtonEl.style.display =\n",
              "        google.colab.kernel.accessAllowed ? 'block' : 'none';\n",
              "    })();\n",
              "  </script>\n",
              "</div>\n",
              "    </div>\n",
              "  </div>\n"
            ]
          },
          "metadata": {},
          "execution_count": 7
        }
      ]
    },
    {
      "cell_type": "code",
      "source": [
        "sns.heatmap(df.corr(), annot = True)"
      ],
      "metadata": {
        "colab": {
          "base_uri": "https://localhost:8080/",
          "height": 601
        },
        "outputId": "e4785efa-f247-40e2-834d-095cd6c96d3e",
        "id": "xBATAck0eBoe"
      },
      "execution_count": null,
      "outputs": [
        {
          "output_type": "stream",
          "name": "stderr",
          "text": [
            "<ipython-input-8-fe43fffaf13b>:1: FutureWarning: The default value of numeric_only in DataFrame.corr is deprecated. In a future version, it will default to False. Select only valid columns or specify the value of numeric_only to silence this warning.\n",
            "  sns.heatmap(df.corr(), annot = True)\n"
          ]
        },
        {
          "output_type": "execute_result",
          "data": {
            "text/plain": [
              "<Axes: >"
            ]
          },
          "metadata": {},
          "execution_count": 8
        },
        {
          "output_type": "display_data",
          "data": {
            "text/plain": [
              "<Figure size 640x480 with 2 Axes>"
            ],
            "image/png": "[encoded data removed]"
          },
          "metadata": {}
        }
      ]
    },
    {
      "cell_type": "code",
      "source": [
        "from statsmodels.stats.outliers_influence import variance_inflation_factor\n",
        "col_list = []\n",
        "for col in df.columns:\n",
        "    if ((df[col].dtype != 'object') & (col != 'units_sold') ):\n",
        "        col_list.append(col)\n",
        "\n",
        "X = df[col_list]\n",
        "\n",
        "vif_data = pd.DataFrame()\n",
        "vif_data[\"feature\"] = X.columns\n",
        "vif_data[\"VIF\"] = [variance_inflation_factor(X.values, i) for i in range(len(X.columns))]\n",
        "print(vif_data)"
      ],
      "metadata": {
        "colab": {
          "base_uri": "https://localhost:8080/"
        },
        "id": "6I2ihgEaeOL1",
        "outputId": "3cf78ddf-445f-44e0-8f8b-2f044c7a9107"
      },
      "execution_count": null,
      "outputs": [
        {
          "output_type": "stream",
          "name": "stdout",
          "text": [
            "           feature       VIF\n",
            "0        record_ID  3.261466\n",
            "1           sku_id  5.211038\n",
            "2      total_price  4.247786\n",
            "3  is_featured_sku  1.364297\n",
            "4   is_display_sku  1.414198\n"
          ]
        }
      ]
    },
    {
      "cell_type": "code",
      "source": [
        "df.drop(columns = 'store_id', inplace = True, axis = 1)"
      ],
      "metadata": {
        "id": "0O3Rh9sOeRDG"
      },
      "execution_count": null,
      "outputs": []
    },
    {
      "cell_type": "code",
      "source": [
        "x = df[['record_ID','sku_id','total_price','is_featured_sku','is_display_sku']]\n",
        "y = df['units_sold']"
      ],
      "metadata": {
        "id": "krrNeoXzl2ZO"
      },
      "execution_count": null,
      "outputs": []
    },
    {
      "cell_type": "code",
      "source": [
        "df.shape"
      ],
      "metadata": {
        "colab": {
          "base_uri": "https://localhost:8080/"
        },
        "outputId": "a0be41c5-c2b1-4943-b0b4-68b39ccd2813",
        "id": "9pGrvCqeeBof"
      },
      "execution_count": null,
      "outputs": [
        {
          "output_type": "execute_result",
          "data": {
            "text/plain": [
              "(150149, 9)"
            ]
          },
          "metadata": {},
          "execution_count": 10
        }
      ]
    },
    {
      "cell_type": "code",
      "source": [
        "df.info()"
      ],
      "metadata": {
        "colab": {
          "base_uri": "https://localhost:8080/"
        },
        "outputId": "12ab0fe9-ac9a-4fbf-bc23-d858e9d48c83",
        "id": "MMXmj3SqeBog"
      },
      "execution_count": null,
      "outputs": [
        {
          "output_type": "stream",
          "name": "stdout",
          "text": [
            "<class 'pandas.core.frame.DataFrame'>\n",
            "Int64Index: 150149 entries, 0 to 150149\n",
            "Data columns (total 9 columns):\n",
            " #   Column           Non-Null Count   Dtype  \n",
            "---  ------           --------------   -----  \n",
            " 0   record_ID        150149 non-null  int64  \n",
            " 1   week             150149 non-null  object \n",
            " 2   store_id         150149 non-null  int64  \n",
            " 3   sku_id           150149 non-null  int64  \n",
            " 4   total_price      150149 non-null  float64\n",
            " 5   base_price       150149 non-null  float64\n",
            " 6   is_featured_sku  150149 non-null  int64  \n",
            " 7   is_display_sku   150149 non-null  int64  \n",
            " 8   units_sold       150149 non-null  int64  \n",
            "dtypes: float64(2), int64(6), object(1)\n",
            "memory usage: 11.5+ MB\n"
          ]
        }
      ]
    },
    {
      "cell_type": "code",
      "source": [
        "x_train, x_test, y_train, y_test = train_test_split(x,y,train_size = 0.8, random_state = 0)"
      ],
      "metadata": {
        "id": "baNHKJbeeBog"
      },
      "execution_count": null,
      "outputs": []
    },
    {
      "cell_type": "markdown",
      "source": [
        "##### Train Test"
      ],
      "metadata": {
        "id": "FV66Z0iQeBog"
      }
    },
    {
      "cell_type": "code",
      "source": [
        "# Initialize the StandardScaler\n",
        "scaler = StandardScaler()\n",
        "X_scaled_train = scaler.fit_transform(x_train)\n",
        "scaled_df = pd.DataFrame(X_scaled_train, columns=x_train.columns)\n",
        "x_train = scaled_df\n",
        "\n",
        "scaler = StandardScaler()\n",
        "X_scaled_test = scaler.fit_transform(x_test)\n",
        "scaled_df = pd.DataFrame(X_scaled_test, columns=x_train.columns)\n",
        "x_test = scaled_df"
      ],
      "metadata": {
        "id": "DB-VJ20qeBoh"
      },
      "execution_count": null,
      "outputs": []
    },
    {
      "cell_type": "code",
      "source": [
        "print(x_train.shape)\n",
        "print(x_test.shape)\n",
        "print(y_train.shape)\n",
        "print(y_test.shape)"
      ],
      "metadata": {
        "colab": {
          "base_uri": "https://localhost:8080/"
        },
        "outputId": "b09cb91e-b1ec-453a-9cc4-c60614066236",
        "id": "h_zzIHMUeBoh"
      },
      "execution_count": null,
      "outputs": [
        {
          "output_type": "stream",
          "name": "stdout",
          "text": [
            "(120119, 5)\n",
            "(30030, 5)\n",
            "(120119,)\n",
            "(30030,)\n"
          ]
        }
      ]
    },
    {
      "cell_type": "code",
      "source": [
        "regression_rmse = []\n",
        "regression_models = []\n",
        "r2_scores= []\n",
        "def fit_predict_regression(model, x_train, x_test, y_train, y_test,regression_rmse):\n",
        "    model = model\n",
        "    model.fit(x_train,y_train)\n",
        "    y_pred = model.predict(x_test)\n",
        "    rmse= mean_squared_error(y_test, y_pred, squared=False)\n",
        "    regression_rmse.append(rmse)\n",
        "    r2_scores.append(r2_score(y_test, y_pred))\n",
        "    regression_models.append(str(model))\n",
        "    print(f\"RMSE of {model}: {rmse}\")\n",
        "    #plt.figure(figsize = (4,3))\n",
        "    #x_values = range(len(y_pred))\n",
        "    # Plot 'expected' as dots (scatter plot)\n",
        "    #plt.scatter(x_values, y_test, label='Expected', marker='o', color='red')\n",
        "    # Plot 'y_pred' as a line\n",
        "    #plt.plot(x_values, y_pred, label='Predicted', linestyle='-', color='green')\n",
        "    # Add labels and legend\n",
        "    #plt.title(f\"{model}\")\n",
        "    #plt.xlabel('Sample Index')\n",
        "    #plt.ylabel('Values')\n",
        "    #plt.legend()\n",
        "    # Show the plot\n",
        "    #plt.show()\n",
        "    return y_pred\n",
        "\n",
        "y_pred_lr = fit_predict_regression(LinearRegression(),x_train,x_test,y_train,y_test,regression_rmse)\n",
        "y_pred_r = fit_predict_regression(Ridge(alpha=.5),x_train,x_test,y_train,y_test,regression_rmse)\n",
        "y_pred_l = fit_predict_regression(Lasso(alpha=.5),x_train,x_test,y_train,y_test,regression_rmse)\n",
        "y_pred_e = fit_predict_regression(ElasticNetCV(cv = 5, random_state = 0),x_train,x_test,y_train,y_test,regression_rmse)\n",
        "y_pred_sgd = fit_predict_regression(SGDRegressor(max_iter=1000, tol=1),x_train,x_test,y_train,y_test,regression_rmse)\n",
        "y_pred_svr = fit_predict_regression(SVR(C=1.0, epsilon=0.2, kernel = \"poly\"),x_train,x_test,y_train,y_test,regression_rmse)\n",
        "y_pred_knn = fit_predict_regression(KNeighborsRegressor(n_neighbors=9),x_train,x_test,y_train,y_test,regression_rmse)\n",
        "y_pred_dtr = fit_predict_regression(DecisionTreeRegressor(),x_train,x_test,y_train,y_test,regression_rmse)\n",
        "y_pred_gbr = fit_predict_regression(GradientBoostingRegressor(n_estimators=1000, learning_rate=0.1, max_depth=1, random_state=0,loss='squared_error'),x_train,x_test,y_train,y_test,regression_rmse)\n",
        "y_pred_hgbr = fit_predict_regression(HistGradientBoostingRegressor(),x_train,x_test,y_train,y_test,regression_rmse)\n",
        "y_pred_rf = fit_predict_regression(RandomForestRegressor(),x_train,x_test,y_train,y_test,regression_rmse)"
      ],
      "metadata": {
        "colab": {
          "base_uri": "https://localhost:8080/"
        },
        "outputId": "f47b0f96-bd79-44cf-eda6-afb7fad75fd1",
        "id": "OcPpVvZeeBoh"
      },
      "execution_count": null,
      "outputs": [
        {
          "output_type": "stream",
          "name": "stdout",
          "text": [
            "RMSE of LinearRegression(): 52.72178567461855\n",
            "RMSE of Ridge(alpha=0.5): 52.721785810834255\n",
            "RMSE of Lasso(alpha=0.5): 52.72831909835125\n",
            "RMSE of ElasticNetCV(cv=5, random_state=0): 52.72505010915605\n",
            "RMSE of SGDRegressor(tol=1): 52.764753137162096\n",
            "RMSE of SVR(epsilon=0.2, kernel='poly'): 53.11013579066453\n",
            "RMSE of KNeighborsRegressor(n_neighbors=9): 40.14869402298118\n",
            "RMSE of DecisionTreeRegressor(): 56.910482019597794\n",
            "RMSE of GradientBoostingRegressor(max_depth=1, n_estimators=1000, random_state=0): 50.05545804934322\n",
            "RMSE of HistGradientBoostingRegressor(): 42.27429539112079\n",
            "RMSE of RandomForestRegressor(): 46.13405582502439\n"
          ]
        }
      ]
    },
    {
      "cell_type": "code",
      "source": [
        "dic = {\"Base Models\":regression_models,\n",
        "       \"RMSE\":regression_rmse,\n",
        "       \"R2 Scores\":r2_scores}\n",
        "dfr = pd.DataFrame(dic)\n",
        "dfr.sort_values(by = ['RMSE'], ascending = True)"
      ],
      "metadata": {
        "colab": {
          "base_uri": "https://localhost:8080/",
          "height": 394
        },
        "outputId": "3d5c0f9e-a153-403d-9f31-e5f028970f99",
        "id": "OTvLDGPpeBoh"
      },
      "execution_count": null,
      "outputs": [
        {
          "output_type": "execute_result",
          "data": {
            "text/plain": [
              "                                          Base Models       RMSE  R2 Scores\n",
              "6                  KNeighborsRegressor(n_neighbors=9)  40.148694   0.564006\n",
              "9                     HistGradientBoostingRegressor()  42.274295   0.516618\n",
              "10                            RandomForestRegressor()  46.134056   0.424320\n",
              "8   GradientBoostingRegressor(max_depth=1, n_estim...  50.055458   0.322295\n",
              "0                                  LinearRegression()  52.721786   0.248172\n",
              "1                                    Ridge(alpha=0.5)  52.721786   0.248172\n",
              "3                  ElasticNetCV(cv=5, random_state=0)  52.725050   0.248079\n",
              "2                                    Lasso(alpha=0.5)  52.728319   0.247986\n",
              "4                                 SGDRegressor(tol=1)  52.764753   0.246947\n",
              "5                     SVR(epsilon=0.2, kernel='poly')  53.110136   0.237056\n",
              "7                             DecisionTreeRegressor()  56.910482   0.123963"
            ],
            "text/html": [
              "\n",
              "  <div id=\"df-5cd81435-281e-486a-ab4e-5dccd02b67c1\" class=\"colab-df-container\">\n",
              "    <div>\n",
              "<style scoped>\n",
              "    .dataframe tbody tr th:only-of-type {\n",
              "        vertical-align: middle;\n",
              "    }\n",
              "\n",
              "    .dataframe tbody tr th {\n",
              "        vertical-align: top;\n",
              "    }\n",
              "\n",
              "    .dataframe thead th {\n",
              "        text-align: right;\n",
              "    }\n",
              "</style>\n",
              "<table border=\"1\" class=\"dataframe\">\n",
              "  <thead>\n",
              "    <tr style=\"text-align: right;\">\n",
              "      <th></th>\n",
              "      <th>Base Models</th>\n",
              "      <th>RMSE</th>\n",
              "      <th>R2 Scores</th>\n",
              "    </tr>\n",
              "  </thead>\n",
              "  <tbody>\n",
              "    <tr>\n",
              "      <th>6</th>\n",
              "      <td>KNeighborsRegressor(n_neighbors=9)</td>\n",
              "      <td>40.148694</td>\n",
              "      <td>0.564006</td>\n",
              "    </tr>\n",
              "    <tr>\n",
              "      <th>9</th>\n",
              "      <td>HistGradientBoostingRegressor()</td>\n",
              "      <td>42.274295</td>\n",
              "      <td>0.516618</td>\n",
              "    </tr>\n",
              "    <tr>\n",
              "      <th>10</th>\n",
              "      <td>RandomForestRegressor()</td>\n",
              "      <td>46.134056</td>\n",
              "      <td>0.424320</td>\n",
              "    </tr>\n",
              "    <tr>\n",
              "      <th>8</th>\n",
              "      <td>GradientBoostingRegressor(max_depth=1, n_estim...</td>\n",
              "      <td>50.055458</td>\n",
              "      <td>0.322295</td>\n",
              "    </tr>\n",
              "    <tr>\n",
              "      <th>0</th>\n",
              "      <td>LinearRegression()</td>\n",
              "      <td>52.721786</td>\n",
              "      <td>0.248172</td>\n",
              "    </tr>\n",
              "    <tr>\n",
              "      <th>1</th>\n",
              "      <td>Ridge(alpha=0.5)</td>\n",
              "      <td>52.721786</td>\n",
              "      <td>0.248172</td>\n",
              "    </tr>\n",
              "    <tr>\n",
              "      <th>3</th>\n",
              "      <td>ElasticNetCV(cv=5, random_state=0)</td>\n",
              "      <td>52.725050</td>\n",
              "      <td>0.248079</td>\n",
              "    </tr>\n",
              "    <tr>\n",
              "      <th>2</th>\n",
              "      <td>Lasso(alpha=0.5)</td>\n",
              "      <td>52.728319</td>\n",
              "      <td>0.247986</td>\n",
              "    </tr>\n",
              "    <tr>\n",
              "      <th>4</th>\n",
              "      <td>SGDRegressor(tol=1)</td>\n",
              "      <td>52.764753</td>\n",
              "      <td>0.246947</td>\n",
              "    </tr>\n",
              "    <tr>\n",
              "      <th>5</th>\n",
              "      <td>SVR(epsilon=0.2, kernel='poly')</td>\n",
              "      <td>53.110136</td>\n",
              "      <td>0.237056</td>\n",
              "    </tr>\n",
              "    <tr>\n",
              "      <th>7</th>\n",
              "      <td>DecisionTreeRegressor()</td>\n",
              "      <td>56.910482</td>\n",
              "      <td>0.123963</td>\n",
              "    </tr>\n",
              "  </tbody>\n",
              "</table>\n",
              "</div>\n",
              "    <div class=\"colab-df-buttons\">\n",
              "\n",
              "  <div class=\"colab-df-container\">\n",
              "    <button class=\"colab-df-convert\" onclick=\"convertToInteractive('df-5cd81435-281e-486a-ab4e-5dccd02b67c1')\"\n",
              "            title=\"Convert this dataframe to an interactive table.\"\n",
              "            style=\"display:none;\">\n",
              "\n",
              "  <svg xmlns=\"http://www.w3.org/2000/svg\" height=\"24px\" viewBox=\"0 -960 960 960\">\n",
              "    <path d=\"M120-120v-720h720v720H120Zm60-500h600v-160H180v160Zm220 220h160v-160H400v160Zm0 220h160v-160H400v160ZM180-400h160v-160H180v160Zm440 0h160v-160H620v160ZM180-180h160v-160H180v160Zm440 0h160v-160H620v160Z\"/>\n",
              "  </svg>\n",
              "    </button>\n",
              "\n",
              "  <style>\n",
              "    .colab-df-container {\n",
              "      display:flex;\n",
              "      gap: 12px;\n",
              "    }\n",
              "\n",
              "    .colab-df-convert {\n",
              "      background-color: #E8F0FE;\n",
              "      border: none;\n",
              "      border-radius: 50%;\n",
              "      cursor: pointer;\n",
              "      display: none;\n",
              "      fill: #1967D2;\n",
              "      height: 32px;\n",
              "      padding: 0 0 0 0;\n",
              "      width: 32px;\n",
              "    }\n",
              "\n",
              "    .colab-df-convert:hover {\n",
              "      background-color: #E2EBFA;\n",
              "      box-shadow: 0px 1px 2px rgba(60, 64, 67, 0.3), 0px 1px 3px 1px rgba(60, 64, 67, 0.15);\n",
              "      fill: #174EA6;\n",
              "    }\n",
              "\n",
              "    .colab-df-buttons div {\n",
              "      margin-bottom: 4px;\n",
              "    }\n",
              "\n",
              "    [theme=dark] .colab-df-convert {\n",
              "      background-color: #3B4455;\n",
              "      fill: #D2E3FC;\n",
              "    }\n",
              "\n",
              "    [theme=dark] .colab-df-convert:hover {\n",
              "      background-color: #434B5C;\n",
              "      box-shadow: 0px 1px 3px 1px rgba(0, 0, 0, 0.15);\n",
              "      filter: drop-shadow(0px 1px 2px rgba(0, 0, 0, 0.3));\n",
              "      fill: #FFFFFF;\n",
              "    }\n",
              "  </style>\n",
              "\n",
              "    <script>\n",
              "      const buttonEl =\n",
              "        document.querySelector('#df-5cd81435-281e-486a-ab4e-5dccd02b67c1 button.colab-df-convert');\n",
              "      buttonEl.style.display =\n",
              "        google.colab.kernel.accessAllowed ? 'block' : 'none';\n",
              "\n",
              "      async function convertToInteractive(key) {\n",
              "        const element = document.querySelector('#df-5cd81435-281e-486a-ab4e-5dccd02b67c1');\n",
              "        const dataTable =\n",
              "          await google.colab.kernel.invokeFunction('convertToInteractive',\n",
              "                                                    [key], {});\n",
              "        if (!dataTable) return;\n",
              "\n",
              "        const docLinkHtml = 'Like what you see? Visit the ' +\n",
              "          '<a target=\"_blank\" href=https://colab.research.google.com/notebooks/data_table.ipynb>data table notebook</a>'\n",
              "          + ' to learn more about interactive tables.';\n",
              "        element.innerHTML = '';\n",
              "        dataTable['output_type'] = 'display_data';\n",
              "        await google.colab.output.renderOutput(dataTable, element);\n",
              "        const docLink = document.createElement('div');\n",
              "        docLink.innerHTML = docLinkHtml;\n",
              "        element.appendChild(docLink);\n",
              "      }\n",
              "    </script>\n",
              "  </div>\n",
              "\n",
              "\n",
              "<div id=\"df-94b828f4-1e2e-4f96-b8d6-65f3c1c7310c\">\n",
              "  <button class=\"colab-df-quickchart\" onclick=\"quickchart('df-94b828f4-1e2e-4f96-b8d6-65f3c1c7310c')\"\n",
              "            title=\"Suggest charts.\"\n",
              "            style=\"display:none;\">\n",
              "\n",
              "<svg xmlns=\"http://www.w3.org/2000/svg\" height=\"24px\"viewBox=\"0 0 24 24\"\n",
              "     width=\"24px\">\n",
              "    <g>\n",
              "        <path d=\"M19 3H5c-1.1 0-2 .9-2 2v14c0 1.1.9 2 2 2h14c1.1 0 2-.9 2-2V5c0-1.1-.9-2-2-2zM9 17H7v-7h2v7zm4 0h-2V7h2v10zm4 0h-2v-4h2v4z\"/>\n",
              "    </g>\n",
              "</svg>\n",
              "  </button>\n",
              "\n",
              "<style>\n",
              "  .colab-df-quickchart {\n",
              "      --bg-color: #E8F0FE;\n",
              "      --fill-color: #1967D2;\n",
              "      --hover-bg-color: #E2EBFA;\n",
              "      --hover-fill-color: #174EA6;\n",
              "      --disabled-fill-color: #AAA;\n",
              "      --disabled-bg-color: #DDD;\n",
              "  }\n",
              "\n",
              "  [theme=dark] .colab-df-quickchart {\n",
              "      --bg-color: #3B4455;\n",
              "      --fill-color: #D2E3FC;\n",
              "      --hover-bg-color: #434B5C;\n",
              "      --hover-fill-color: #FFFFFF;\n",
              "      --disabled-bg-color: #3B4455;\n",
              "      --disabled-fill-color: #666;\n",
              "  }\n",
              "\n",
              "  .colab-df-quickchart {\n",
              "    background-color: var(--bg-color);\n",
              "    border: none;\n",
              "    border-radius: 50%;\n",
              "    cursor: pointer;\n",
              "    display: none;\n",
              "    fill: var(--fill-color);\n",
              "    height: 32px;\n",
              "    padding: 0;\n",
              "    width: 32px;\n",
              "  }\n",
              "\n",
              "  .colab-df-quickchart:hover {\n",
              "    background-color: var(--hover-bg-color);\n",
              "    box-shadow: 0 1px 2px rgba(60, 64, 67, 0.3), 0 1px 3px 1px rgba(60, 64, 67, 0.15);\n",
              "    fill: var(--button-hover-fill-color);\n",
              "  }\n",
              "\n",
              "  .colab-df-quickchart-complete:disabled,\n",
              "  .colab-df-quickchart-complete:disabled:hover {\n",
              "    background-color: var(--disabled-bg-color);\n",
              "    fill: var(--disabled-fill-color);\n",
              "    box-shadow: none;\n",
              "  }\n",
              "\n",
              "  .colab-df-spinner {\n",
              "    border: 2px solid var(--fill-color);\n",
              "    border-color: transparent;\n",
              "    border-bottom-color: var(--fill-color);\n",
              "    animation:\n",
              "      spin 1s steps(1) infinite;\n",
              "  }\n",
              "\n",
              "  @keyframes spin {\n",
              "    0% {\n",
              "      border-color: transparent;\n",
              "      border-bottom-color: var(--fill-color);\n",
              "      border-left-color: var(--fill-color);\n",
              "    }\n",
              "    20% {\n",
              "      border-color: transparent;\n",
              "      border-left-color: var(--fill-color);\n",
              "      border-top-color: var(--fill-color);\n",
              "    }\n",
              "    30% {\n",
              "      border-color: transparent;\n",
              "      border-left-color: var(--fill-color);\n",
              "      border-top-color: var(--fill-color);\n",
              "      border-right-color: var(--fill-color);\n",
              "    }\n",
              "    40% {\n",
              "      border-color: transparent;\n",
              "      border-right-color: var(--fill-color);\n",
              "      border-top-color: var(--fill-color);\n",
              "    }\n",
              "    60% {\n",
              "      border-color: transparent;\n",
              "      border-right-color: var(--fill-color);\n",
              "    }\n",
              "    80% {\n",
              "      border-color: transparent;\n",
              "      border-right-color: var(--fill-color);\n",
              "      border-bottom-color: var(--fill-color);\n",
              "    }\n",
              "    90% {\n",
              "      border-color: transparent;\n",
              "      border-bottom-color: var(--fill-color);\n",
              "    }\n",
              "  }\n",
              "</style>\n",
              "\n",
              "  <script>\n",
              "    async function quickchart(key) {\n",
              "      const quickchartButtonEl =\n",
              "        document.querySelector('#' + key + ' button');\n",
              "      quickchartButtonEl.disabled = true;  // To prevent multiple clicks.\n",
              "      quickchartButtonEl.classList.add('colab-df-spinner');\n",
              "      try {\n",
              "        const charts = await google.colab.kernel.invokeFunction(\n",
              "            'suggestCharts', [key], {});\n",
              "      } catch (error) {\n",
              "        console.error('Error during call to suggestCharts:', error);\n",
              "      }\n",
              "      quickchartButtonEl.classList.remove('colab-df-spinner');\n",
              "      quickchartButtonEl.classList.add('colab-df-quickchart-complete');\n",
              "    }\n",
              "    (() => {\n",
              "      let quickchartButtonEl =\n",
              "        document.querySelector('#df-94b828f4-1e2e-4f96-b8d6-65f3c1c7310c button');\n",
              "      quickchartButtonEl.style.display =\n",
              "        google.colab.kernel.accessAllowed ? 'block' : 'none';\n",
              "    })();\n",
              "  </script>\n",
              "</div>\n",
              "    </div>\n",
              "  </div>\n"
            ]
          },
          "metadata": {},
          "execution_count": 24
        }
      ]
    },
    {
      "cell_type": "code",
      "source": [
        "regression_rmse = []\n",
        "r2_scores= []\n",
        "y_pred_lr = y_pred_lr.astype(int)\n",
        "regression_rmse.append(mean_squared_error(y_test, y_pred_lr, squared=False))\n",
        "r2_scores.append(r2_score(y_test, y_pred_lr))\n",
        "\n",
        "y_pred_r = y_pred_r.astype(int)\n",
        "regression_rmse.append(mean_squared_error(y_test, y_pred_r, squared=False))\n",
        "r2_scores.append(r2_score(y_test, y_pred_r))\n",
        "\n",
        "y_pred_l = y_pred_l.astype(int)\n",
        "regression_rmse.append(mean_squared_error(y_test, y_pred_l, squared=False))\n",
        "r2_scores.append(r2_score(y_test, y_pred_l))\n",
        "\n",
        "y_pred_e = y_pred_e.astype(int)\n",
        "regression_rmse.append(mean_squared_error(y_test, y_pred_e, squared=False))\n",
        "r2_scores.append(r2_score(y_test, y_pred_e))\n",
        "\n",
        "y_pred_sgd = y_pred_sgd.astype(int)\n",
        "regression_rmse.append(mean_squared_error(y_test, y_pred_sgd, squared=False))\n",
        "r2_scores.append(r2_score(y_test, y_pred_sgd))\n",
        "\n",
        "y_pred_svr = y_pred_svr.astype(int)\n",
        "regression_rmse.append(mean_squared_error(y_test, y_pred_svr, squared=False))\n",
        "r2_scores.append(r2_score(y_test, y_pred_svr))\n",
        "\n",
        "y_pred_knn = y_pred_knn.astype(int)\n",
        "regression_rmse.append(mean_squared_error(y_test, y_pred_knn, squared=False))\n",
        "r2_scores.append(r2_score(y_test, y_pred_knn))\n",
        "\n",
        "y_pred_dtr = y_pred_dtr.astype(int)\n",
        "regression_rmse.append(mean_squared_error(y_test, y_pred_dtr, squared=False))\n",
        "r2_scores.append(r2_score(y_test, y_pred_dtr))\n",
        "\n",
        "y_pred_gbr = y_pred_gbr.astype(int)\n",
        "regression_rmse.append(mean_squared_error(y_test, y_pred_gbr, squared=False))\n",
        "r2_scores.append(r2_score(y_test, y_pred_gbr))\n",
        "\n",
        "y_pred_hgbr = y_pred_hgbr.astype(int)\n",
        "regression_rmse.append(mean_squared_error(y_test, y_pred_hgbr, squared=False))\n",
        "r2_scores.append(r2_score(y_test, y_pred_hgbr))\n",
        "\n",
        "y_pred_rf = y_pred_rf.astype(int)\n",
        "regression_rmse.append(mean_squared_error(y_test, y_pred_rf, squared=False))\n",
        "r2_scores.append(r2_score(y_test, y_pred_rf))"
      ],
      "metadata": {
        "id": "Qf9mSUrbeBoi"
      },
      "execution_count": null,
      "outputs": []
    },
    {
      "cell_type": "code",
      "source": [
        "dic = {\"Base Models\":regression_models,\n",
        "       \"RMSE\":regression_rmse,\n",
        "       \"R2 Scores\":r2_scores}\n",
        "dfrr = pd.DataFrame(dic)\n",
        "dfrr.sort_values(by = ['RMSE'], ascending = True)"
      ],
      "metadata": {
        "colab": {
          "base_uri": "https://localhost:8080/",
          "height": 394
        },
        "outputId": "7dea5328-29c5-4c4b-d397-0e9de007602c",
        "id": "ySmrcyNeeBoi"
      },
      "execution_count": null,
      "outputs": [
        {
          "output_type": "execute_result",
          "data": {
            "text/plain": [
              "                                          Base Models       RMSE  R2 Scores\n",
              "6                  KNeighborsRegressor(n_neighbors=9)  40.149559   0.563987\n",
              "9                     HistGradientBoostingRegressor()  42.344317   0.515015\n",
              "10                            RandomForestRegressor()  46.188431   0.422962\n",
              "8   GradientBoostingRegressor(max_depth=1, n_estim...  50.113899   0.320711\n",
              "0                                  LinearRegression()  52.717249   0.248302\n",
              "1                                    Ridge(alpha=0.5)  52.717249   0.248302\n",
              "3                  ElasticNetCV(cv=5, random_state=0)  52.721479   0.248181\n",
              "2                                    Lasso(alpha=0.5)  52.730202   0.247932\n",
              "4                                 SGDRegressor(tol=1)  52.758998   0.247111\n",
              "5                     SVR(epsilon=0.2, kernel='poly')  53.222631   0.233820\n",
              "7                             DecisionTreeRegressor()  56.910482   0.123963"
            ],
            "text/html": [
              "\n",
              "  <div id=\"df-7376d794-eb39-4028-bfdd-713e904a5b5d\" class=\"colab-df-container\">\n",
              "    <div>\n",
              "<style scoped>\n",
              "    .dataframe tbody tr th:only-of-type {\n",
              "        vertical-align: middle;\n",
              "    }\n",
              "\n",
              "    .dataframe tbody tr th {\n",
              "        vertical-align: top;\n",
              "    }\n",
              "\n",
              "    .dataframe thead th {\n",
              "        text-align: right;\n",
              "    }\n",
              "</style>\n",
              "<table border=\"1\" class=\"dataframe\">\n",
              "  <thead>\n",
              "    <tr style=\"text-align: right;\">\n",
              "      <th></th>\n",
              "      <th>Base Models</th>\n",
              "      <th>RMSE</th>\n",
              "      <th>R2 Scores</th>\n",
              "    </tr>\n",
              "  </thead>\n",
              "  <tbody>\n",
              "    <tr>\n",
              "      <th>6</th>\n",
              "      <td>KNeighborsRegressor(n_neighbors=9)</td>\n",
              "      <td>40.149559</td>\n",
              "      <td>0.563987</td>\n",
              "    </tr>\n",
              "    <tr>\n",
              "      <th>9</th>\n",
              "      <td>HistGradientBoostingRegressor()</td>\n",
              "      <td>42.344317</td>\n",
              "      <td>0.515015</td>\n",
              "    </tr>\n",
              "    <tr>\n",
              "      <th>10</th>\n",
              "      <td>RandomForestRegressor()</td>\n",
              "      <td>46.188431</td>\n",
              "      <td>0.422962</td>\n",
              "    </tr>\n",
              "    <tr>\n",
              "      <th>8</th>\n",
              "      <td>GradientBoostingRegressor(max_depth=1, n_estim...</td>\n",
              "      <td>50.113899</td>\n",
              "      <td>0.320711</td>\n",
              "    </tr>\n",
              "    <tr>\n",
              "      <th>0</th>\n",
              "      <td>LinearRegression()</td>\n",
              "      <td>52.717249</td>\n",
              "      <td>0.248302</td>\n",
              "    </tr>\n",
              "    <tr>\n",
              "      <th>1</th>\n",
              "      <td>Ridge(alpha=0.5)</td>\n",
              "      <td>52.717249</td>\n",
              "      <td>0.248302</td>\n",
              "    </tr>\n",
              "    <tr>\n",
              "      <th>3</th>\n",
              "      <td>ElasticNetCV(cv=5, random_state=0)</td>\n",
              "      <td>52.721479</td>\n",
              "      <td>0.248181</td>\n",
              "    </tr>\n",
              "    <tr>\n",
              "      <th>2</th>\n",
              "      <td>Lasso(alpha=0.5)</td>\n",
              "      <td>52.730202</td>\n",
              "      <td>0.247932</td>\n",
              "    </tr>\n",
              "    <tr>\n",
              "      <th>4</th>\n",
              "      <td>SGDRegressor(tol=1)</td>\n",
              "      <td>52.758998</td>\n",
              "      <td>0.247111</td>\n",
              "    </tr>\n",
              "    <tr>\n",
              "      <th>5</th>\n",
              "      <td>SVR(epsilon=0.2, kernel='poly')</td>\n",
              "      <td>53.222631</td>\n",
              "      <td>0.233820</td>\n",
              "    </tr>\n",
              "    <tr>\n",
              "      <th>7</th>\n",
              "      <td>DecisionTreeRegressor()</td>\n",
              "      <td>56.910482</td>\n",
              "      <td>0.123963</td>\n",
              "    </tr>\n",
              "  </tbody>\n",
              "</table>\n",
              "</div>\n",
              "    <div class=\"colab-df-buttons\">\n",
              "\n",
              "  <div class=\"colab-df-container\">\n",
              "    <button class=\"colab-df-convert\" onclick=\"convertToInteractive('df-7376d794-eb39-4028-bfdd-713e904a5b5d')\"\n",
              "            title=\"Convert this dataframe to an interactive table.\"\n",
              "            style=\"display:none;\">\n",
              "\n",
              "  <svg xmlns=\"http://www.w3.org/2000/svg\" height=\"24px\" viewBox=\"0 -960 960 960\">\n",
              "    <path d=\"M120-120v-720h720v720H120Zm60-500h600v-160H180v160Zm220 220h160v-160H400v160Zm0 220h160v-160H400v160ZM180-400h160v-160H180v160Zm440 0h160v-160H620v160ZM180-180h160v-160H180v160Zm440 0h160v-160H620v160Z\"/>\n",
              "  </svg>\n",
              "    </button>\n",
              "\n",
              "  <style>\n",
              "    .colab-df-container {\n",
              "      display:flex;\n",
              "      gap: 12px;\n",
              "    }\n",
              "\n",
              "    .colab-df-convert {\n",
              "      background-color: #E8F0FE;\n",
              "      border: none;\n",
              "      border-radius: 50%;\n",
              "      cursor: pointer;\n",
              "      display: none;\n",
              "      fill: #1967D2;\n",
              "      height: 32px;\n",
              "      padding: 0 0 0 0;\n",
              "      width: 32px;\n",
              "    }\n",
              "\n",
              "    .colab-df-convert:hover {\n",
              "      background-color: #E2EBFA;\n",
              "      box-shadow: 0px 1px 2px rgba(60, 64, 67, 0.3), 0px 1px 3px 1px rgba(60, 64, 67, 0.15);\n",
              "      fill: #174EA6;\n",
              "    }\n",
              "\n",
              "    .colab-df-buttons div {\n",
              "      margin-bottom: 4px;\n",
              "    }\n",
              "\n",
              "    [theme=dark] .colab-df-convert {\n",
              "      background-color: #3B4455;\n",
              "      fill: #D2E3FC;\n",
              "    }\n",
              "\n",
              "    [theme=dark] .colab-df-convert:hover {\n",
              "      background-color: #434B5C;\n",
              "      box-shadow: 0px 1px 3px 1px rgba(0, 0, 0, 0.15);\n",
              "      filter: drop-shadow(0px 1px 2px rgba(0, 0, 0, 0.3));\n",
              "      fill: #FFFFFF;\n",
              "    }\n",
              "  </style>\n",
              "\n",
              "    <script>\n",
              "      const buttonEl =\n",
              "        document.querySelector('#df-7376d794-eb39-4028-bfdd-713e904a5b5d button.colab-df-convert');\n",
              "      buttonEl.style.display =\n",
              "        google.colab.kernel.accessAllowed ? 'block' : 'none';\n",
              "\n",
              "      async function convertToInteractive(key) {\n",
              "        const element = document.querySelector('#df-7376d794-eb39-4028-bfdd-713e904a5b5d');\n",
              "        const dataTable =\n",
              "          await google.colab.kernel.invokeFunction('convertToInteractive',\n",
              "                                                    [key], {});\n",
              "        if (!dataTable) return;\n",
              "\n",
              "        const docLinkHtml = 'Like what you see? Visit the ' +\n",
              "          '<a target=\"_blank\" href=https://colab.research.google.com/notebooks/data_table.ipynb>data table notebook</a>'\n",
              "          + ' to learn more about interactive tables.';\n",
              "        element.innerHTML = '';\n",
              "        dataTable['output_type'] = 'display_data';\n",
              "        await google.colab.output.renderOutput(dataTable, element);\n",
              "        const docLink = document.createElement('div');\n",
              "        docLink.innerHTML = docLinkHtml;\n",
              "        element.appendChild(docLink);\n",
              "      }\n",
              "    </script>\n",
              "  </div>\n",
              "\n",
              "\n",
              "<div id=\"df-e170a9da-7571-4e1c-b863-f9cfae4b9939\">\n",
              "  <button class=\"colab-df-quickchart\" onclick=\"quickchart('df-e170a9da-7571-4e1c-b863-f9cfae4b9939')\"\n",
              "            title=\"Suggest charts.\"\n",
              "            style=\"display:none;\">\n",
              "\n",
              "<svg xmlns=\"http://www.w3.org/2000/svg\" height=\"24px\"viewBox=\"0 0 24 24\"\n",
              "     width=\"24px\">\n",
              "    <g>\n",
              "        <path d=\"M19 3H5c-1.1 0-2 .9-2 2v14c0 1.1.9 2 2 2h14c1.1 0 2-.9 2-2V5c0-1.1-.9-2-2-2zM9 17H7v-7h2v7zm4 0h-2V7h2v10zm4 0h-2v-4h2v4z\"/>\n",
              "    </g>\n",
              "</svg>\n",
              "  </button>\n",
              "\n",
              "<style>\n",
              "  .colab-df-quickchart {\n",
              "      --bg-color: #E8F0FE;\n",
              "      --fill-color: #1967D2;\n",
              "      --hover-bg-color: #E2EBFA;\n",
              "      --hover-fill-color: #174EA6;\n",
              "      --disabled-fill-color: #AAA;\n",
              "      --disabled-bg-color: #DDD;\n",
              "  }\n",
              "\n",
              "  [theme=dark] .colab-df-quickchart {\n",
              "      --bg-color: #3B4455;\n",
              "      --fill-color: #D2E3FC;\n",
              "      --hover-bg-color: #434B5C;\n",
              "      --hover-fill-color: #FFFFFF;\n",
              "      --disabled-bg-color: #3B4455;\n",
              "      --disabled-fill-color: #666;\n",
              "  }\n",
              "\n",
              "  .colab-df-quickchart {\n",
              "    background-color: var(--bg-color);\n",
              "    border: none;\n",
              "    border-radius: 50%;\n",
              "    cursor: pointer;\n",
              "    display: none;\n",
              "    fill: var(--fill-color);\n",
              "    height: 32px;\n",
              "    padding: 0;\n",
              "    width: 32px;\n",
              "  }\n",
              "\n",
              "  .colab-df-quickchart:hover {\n",
              "    background-color: var(--hover-bg-color);\n",
              "    box-shadow: 0 1px 2px rgba(60, 64, 67, 0.3), 0 1px 3px 1px rgba(60, 64, 67, 0.15);\n",
              "    fill: var(--button-hover-fill-color);\n",
              "  }\n",
              "\n",
              "  .colab-df-quickchart-complete:disabled,\n",
              "  .colab-df-quickchart-complete:disabled:hover {\n",
              "    background-color: var(--disabled-bg-color);\n",
              "    fill: var(--disabled-fill-color);\n",
              "    box-shadow: none;\n",
              "  }\n",
              "\n",
              "  .colab-df-spinner {\n",
              "    border: 2px solid var(--fill-color);\n",
              "    border-color: transparent;\n",
              "    border-bottom-color: var(--fill-color);\n",
              "    animation:\n",
              "      spin 1s steps(1) infinite;\n",
              "  }\n",
              "\n",
              "  @keyframes spin {\n",
              "    0% {\n",
              "      border-color: transparent;\n",
              "      border-bottom-color: var(--fill-color);\n",
              "      border-left-color: var(--fill-color);\n",
              "    }\n",
              "    20% {\n",
              "      border-color: transparent;\n",
              "      border-left-color: var(--fill-color);\n",
              "      border-top-color: var(--fill-color);\n",
              "    }\n",
              "    30% {\n",
              "      border-color: transparent;\n",
              "      border-left-color: var(--fill-color);\n",
              "      border-top-color: var(--fill-color);\n",
              "      border-right-color: var(--fill-color);\n",
              "    }\n",
              "    40% {\n",
              "      border-color: transparent;\n",
              "      border-right-color: var(--fill-color);\n",
              "      border-top-color: var(--fill-color);\n",
              "    }\n",
              "    60% {\n",
              "      border-color: transparent;\n",
              "      border-right-color: var(--fill-color);\n",
              "    }\n",
              "    80% {\n",
              "      border-color: transparent;\n",
              "      border-right-color: var(--fill-color);\n",
              "      border-bottom-color: var(--fill-color);\n",
              "    }\n",
              "    90% {\n",
              "      border-color: transparent;\n",
              "      border-bottom-color: var(--fill-color);\n",
              "    }\n",
              "  }\n",
              "</style>\n",
              "\n",
              "  <script>\n",
              "    async function quickchart(key) {\n",
              "      const quickchartButtonEl =\n",
              "        document.querySelector('#' + key + ' button');\n",
              "      quickchartButtonEl.disabled = true;  // To prevent multiple clicks.\n",
              "      quickchartButtonEl.classList.add('colab-df-spinner');\n",
              "      try {\n",
              "        const charts = await google.colab.kernel.invokeFunction(\n",
              "            'suggestCharts', [key], {});\n",
              "      } catch (error) {\n",
              "        console.error('Error during call to suggestCharts:', error);\n",
              "      }\n",
              "      quickchartButtonEl.classList.remove('colab-df-spinner');\n",
              "      quickchartButtonEl.classList.add('colab-df-quickchart-complete');\n",
              "    }\n",
              "    (() => {\n",
              "      let quickchartButtonEl =\n",
              "        document.querySelector('#df-e170a9da-7571-4e1c-b863-f9cfae4b9939 button');\n",
              "      quickchartButtonEl.style.display =\n",
              "        google.colab.kernel.accessAllowed ? 'block' : 'none';\n",
              "    })();\n",
              "  </script>\n",
              "</div>\n",
              "    </div>\n",
              "  </div>\n"
            ]
          },
          "metadata": {},
          "execution_count": 27
        }
      ]
    },
    {
      "cell_type": "code",
      "source": [
        "x_train.shape"
      ],
      "metadata": {
        "colab": {
          "base_uri": "https://localhost:8080/"
        },
        "id": "9VhzpzI70TJx",
        "outputId": "d48f525f-8445-4703-dbb3-caff84870aa1"
      },
      "execution_count": null,
      "outputs": [
        {
          "output_type": "execute_result",
          "data": {
            "text/plain": [
              "(120119, 5)"
            ]
          },
          "metadata": {},
          "execution_count": 49
        }
      ]
    },
    {
      "cell_type": "code",
      "source": [
        "neighbours = np.arange(1,100,2)"
      ],
      "metadata": {
        "id": "4QTY0LK70c3S"
      },
      "execution_count": null,
      "outputs": []
    },
    {
      "cell_type": "code",
      "source": [
        "neighbours"
      ],
      "metadata": {
        "colab": {
          "base_uri": "https://localhost:8080/"
        },
        "id": "tOSJvpYC0fgg",
        "outputId": "99fbf128-58cf-4d2c-e2b0-a8f4a698292e"
      },
      "execution_count": null,
      "outputs": [
        {
          "output_type": "execute_result",
          "data": {
            "text/plain": [
              "array([ 1,  3,  5,  7,  9, 11, 13, 15, 17, 19, 21, 23, 25, 27, 29, 31, 33,\n",
              "       35, 37, 39, 41, 43, 45, 47, 49, 51, 53, 55, 57, 59, 61, 63, 65, 67,\n",
              "       69, 71, 73, 75, 77, 79, 81, 83, 85, 87, 89, 91, 93, 95, 97, 99])"
            ]
          },
          "metadata": {},
          "execution_count": 62
        }
      ]
    },
    {
      "cell_type": "code",
      "source": [
        "neighbours = np.arange(1,300,3)\n",
        "regression_rmse = []\n",
        "r2_scores = []\n",
        "for i in neighbours:\n",
        "    model = KNeighborsRegressor(n_neighbors=i)\n",
        "    model.fit(x_train,y_train)\n",
        "    y_pred = model.predict(x_test)\n",
        "    rmse= mean_squared_error(y_test, y_pred, squared=False)\n",
        "    regression_rmse.append(rmse)\n",
        "    r2_scores.append(r2_score(y_test, y_pred))\n",
        "    #regression_models.append(str(model))\n",
        "    #print(f\"RMSE of {model}: {rmse}\")\n",
        "    #print(f\"R2 of {model}: {r2_score(y_test, y_pred)}\")\n",
        "    print(i)"
      ],
      "metadata": {
        "colab": {
          "base_uri": "https://localhost:8080/"
        },
        "id": "Hgcb9UKazuN_",
        "outputId": "54461a8a-ca26-4ec4-82b9-064921c79a60"
      },
      "execution_count": null,
      "outputs": [
        {
          "output_type": "stream",
          "name": "stdout",
          "text": [
            "1\n",
            "4\n",
            "7\n",
            "10\n",
            "13\n",
            "16\n",
            "19\n",
            "22\n",
            "25\n",
            "28\n",
            "31\n",
            "34\n",
            "37\n",
            "40\n",
            "43\n",
            "46\n",
            "49\n",
            "52\n",
            "55\n",
            "58\n",
            "61\n",
            "64\n",
            "67\n",
            "70\n",
            "73\n",
            "76\n",
            "79\n",
            "82\n",
            "85\n",
            "88\n",
            "91\n",
            "94\n",
            "97\n",
            "100\n",
            "103\n",
            "106\n",
            "109\n",
            "112\n",
            "115\n",
            "118\n",
            "121\n",
            "124\n",
            "127\n",
            "130\n",
            "133\n",
            "136\n",
            "139\n",
            "142\n",
            "145\n",
            "148\n",
            "151\n",
            "154\n",
            "157\n",
            "160\n",
            "163\n",
            "166\n",
            "169\n",
            "172\n",
            "175\n",
            "178\n",
            "181\n",
            "184\n",
            "187\n",
            "190\n",
            "193\n",
            "196\n",
            "199\n",
            "202\n",
            "205\n",
            "208\n",
            "211\n",
            "214\n",
            "217\n",
            "220\n",
            "223\n",
            "226\n",
            "229\n",
            "232\n",
            "235\n",
            "238\n",
            "241\n",
            "244\n",
            "247\n",
            "250\n",
            "253\n",
            "256\n",
            "259\n",
            "262\n",
            "265\n",
            "268\n",
            "271\n",
            "274\n",
            "277\n",
            "280\n",
            "283\n",
            "286\n",
            "289\n",
            "292\n",
            "295\n",
            "298\n"
          ]
        }
      ]
    },
    {
      "cell_type": "code",
      "source": [
        "# Plot RMSE and R^2 scores\n",
        "plt.figure(figsize=(10, 5))\n",
        "plt.plot(neighbours, regression_rmse, label='RMSE',marker='o')\n",
        "#plt.plot(neighbours, r2_scores, label='R^2')\n",
        "plt.xlabel('Number of Neighbors')\n",
        "plt.ylabel('Score')\n",
        "plt.legend()\n",
        "plt.title('RMSE Scores vs. Number of Neighbors')\n",
        "plt.grid()\n",
        "\n",
        "min_rmse = min(regression_rmse)\n",
        "min_neighbor = neighbours[regression_rmse.index(min_rmse)]\n",
        "\n",
        "# Add a line from the lowest RMSE point to the x-axis\n",
        "plt.annotate(f'Min RMSE: {min_rmse:.2f}\\nNeighbor: {min_neighbor}',\n",
        "             xy=(min_neighbor, min_rmse), xycoords='data',\n",
        "             xytext=(min_neighbor, 0), textcoords='data',\n",
        "             arrowprops=dict(arrowstyle='->', color='red', linestyle='--'))\n",
        "\n",
        "plt.show()"
      ],
      "metadata": {
        "colab": {
          "base_uri": "https://localhost:8080/",
          "height": 1000
        },
        "id": "71zZxxaI1El-",
        "outputId": "93a3e526-cf01-4395-d4a7-6a69ad5b054b"
      },
      "execution_count": null,
      "outputs": [
        {
          "output_type": "display_data",
          "data": {
            "text/plain": [
              "<Figure size 1000x500 with 1 Axes>"
            ],
            "image/png": "[encoded data removed]"
          },
          "metadata": {}
        }
      ]
    },
    {
      "cell_type": "code",
      "source": [
        "plt.figure(figsize=(10, 5))\n",
        "#plt.plot(neighbours, regression_rmse, label='RMSE')\n",
        "plt.plot(neighbours, r2_scores, label='R^2',marker='o')\n",
        "plt.xlabel('Number of Neighbors')\n",
        "plt.ylabel('Score')\n",
        "plt.legend()\n",
        "plt.title('R^2 Scores vs. Number of Neighbors')\n",
        "plt.grid()\n",
        "\n",
        "max_r2 = max(r2_scores)\n",
        "max_neighbor = neighbours[r2_scores.index(max_r2)]\n",
        "\n",
        "# Add a line from the lowest RMSE point to the x-axis\n",
        "plt.annotate(f'Max R2: {max_r2:.2f}\\nNeighbor: {max_neighbor}',\n",
        "             xy=(max_neighbor, max_r2), xycoords='data',\n",
        "             xytext=(max_neighbor, 0), textcoords='data',\n",
        "             arrowprops=dict(arrowstyle='->', color='red', linestyle='--'))\n",
        "\n",
        "plt.show()"
      ],
      "metadata": {
        "colab": {
          "base_uri": "https://localhost:8080/",
          "height": 792
        },
        "id": "8QvHhALA1pdB",
        "outputId": "28cfce63-0d4c-418b-c3a3-0bde0cc10c68"
      },
      "execution_count": null,
      "outputs": [
        {
          "output_type": "display_data",
          "data": {
            "text/plain": [
              "<Figure size 1000x500 with 1 Axes>"
            ],
            "image/png": "[encoded data removed]"
          },
          "metadata": {}
        }
      ]
    },
    {
      "cell_type": "code",
      "source": [
        "p = np.arange(1,5,1)\n",
        "regression_rmse = []\n",
        "r2_scores = []\n",
        "for i in p:\n",
        "    model = KNeighborsRegressor(n_neighbors=13, p = i )\n",
        "    model.fit(x_train,y_train)\n",
        "    y_pred = model.predict(x_test)\n",
        "    rmse= mean_squared_error(y_test, y_pred, squared=False)\n",
        "    regression_rmse.append(rmse)\n",
        "    r2_scores.append(r2_score(y_test, y_pred))\n",
        "    #regression_models.append(str(model))\n",
        "    #print(f\"RMSE of {model}: {rmse}\")\n",
        "    #print(f\"R2 of {model}: {r2_score(y_test, y_pred)}\")\n",
        "    print(i)"
      ],
      "metadata": {
        "colab": {
          "base_uri": "https://localhost:8080/"
        },
        "id": "ATZVJ3KP84ae",
        "outputId": "ca855f18-e367-446c-aac9-aca892ebb762"
      },
      "execution_count": null,
      "outputs": [
        {
          "output_type": "stream",
          "name": "stdout",
          "text": [
            "1\n",
            "2\n",
            "3\n",
            "4\n"
          ]
        }
      ]
    },
    {
      "cell_type": "code",
      "source": [
        "plt.figure(figsize=(8, 4))\n",
        "plt.plot(p, regression_rmse, label='RMSE',marker='o')\n",
        "#plt.plot(neighbours, r2_scores, label='R^2')\n",
        "plt.xlabel('Number of Neighbors')\n",
        "plt.ylabel('Score')\n",
        "plt.legend()\n",
        "plt.title('RMSE Scores vs. Number of Neighbors')\n",
        "plt.grid()\n",
        "\n",
        "min_rmse = min(regression_rmse)\n",
        "min_neighbor = p[regression_rmse.index(min_rmse)]\n",
        "\n",
        "\n",
        "plt.show()"
      ],
      "metadata": {
        "colab": {
          "base_uri": "https://localhost:8080/",
          "height": 410
        },
        "id": "8sFYzsww84UX",
        "outputId": "aa2845a9-2ba5-46da-e1f0-43ba589221ff"
      },
      "execution_count": null,
      "outputs": [
        {
          "output_type": "display_data",
          "data": {
            "text/plain": [
              "<Figure size 800x400 with 1 Axes>"
            ],
            "image/png": "[encoded data removed]"
          },
          "metadata": {}
        }
      ]
    },
    {
      "cell_type": "code",
      "source": [
        "plt.figure(figsize=(10, 5))\n",
        "#plt.plot(neighbours, regression_rmse, label='RMSE')\n",
        "plt.plot(p, r2_scores, label='R^2',marker='o')\n",
        "plt.xlabel('Number of Neighbors')\n",
        "plt.ylabel('Score')\n",
        "plt.legend()\n",
        "plt.title('R^2 Scores vs. Number of Neighbors')\n",
        "plt.grid()\n",
        "\n",
        "max_r2 = max(r2_scores)\n",
        "max_neighbor = p[r2_scores.index(max_r2)]\n",
        "plt.show()"
      ],
      "metadata": {
        "colab": {
          "base_uri": "https://localhost:8080/",
          "height": 487
        },
        "id": "WdC8p38A-o2X",
        "outputId": "2efd7575-5722-4c5e-e9ee-a4f693762bf7"
      },
      "execution_count": null,
      "outputs": [
        {
          "output_type": "display_data",
          "data": {
            "text/plain": [
              "<Figure size 1000x500 with 1 Axes>"
            ],
            "image/png": "[encoded data removed]"
          },
          "metadata": {}
        }
      ]
    },
    {
      "cell_type": "code",
      "source": [
        "model = KNeighborsRegressor(n_neighbors=13, p = 1 )\n",
        "model.fit(x_train,y_train)\n",
        "y_pred = model.predict(x_test)\n",
        "rmse= mean_squared_error(y_test, y_pred, squared=False)\n",
        "r2_score = r2_score(y_test, y_pred)\n",
        "print('RMSE: ',rmse)\n",
        "print('R2: ',r2_score)"
      ],
      "metadata": {
        "colab": {
          "base_uri": "https://localhost:8080/"
        },
        "id": "_-zzaZLO_Fmr",
        "outputId": "27a7eb7b-1d63-41bb-e6fc-1e735f4f4c6b"
      },
      "execution_count": null,
      "outputs": [
        {
          "output_type": "stream",
          "name": "stdout",
          "text": [
            "RMSE:  39.85337166695397\n",
            "R2:  0.5703961687562928\n"
          ]
        }
      ]
    },
    {
      "cell_type": "code",
      "source": [
        "test = pd.read_csv('DataSetRetail.csv')\n",
        "x_test = test[['record_ID','sku_id','total_price','is_featured_sku','is_display_sku']]"
      ],
      "metadata": {
        "id": "LuwjR7UNBysO"
      },
      "execution_count": null,
      "outputs": []
    },
    {
      "cell_type": "code",
      "source": [
        "model = KNeighborsRegressor(n_neighbors=13, p = 1 )\n",
        "model.fit(x,y)"
      ],
      "metadata": {
        "colab": {
          "base_uri": "https://localhost:8080/",
          "height": 74
        },
        "id": "C5vzZHgXeBoi",
        "outputId": "da40b17f-c464-4d8f-f32a-4a0ecf20c7d4"
      },
      "execution_count": null,
      "outputs": [
        {
          "output_type": "execute_result",
          "data": {
            "text/plain": [
              "KNeighborsRegressor(n_neighbors=13, p=1)"
            ],
            "text/html": [
              "<style>#sk-container-id-3 {color: black;background-color: white;}#sk-container-id-3 pre{padding: 0;}#sk-container-id-3 div.sk-toggleable {background-color: white;}#sk-container-id-3 label.sk-toggleable__label {cursor: pointer;display: block;width: 100%;margin-bottom: 0;padding: 0.3em;box-sizing: border-box;text-align: center;}#sk-container-id-3 label.sk-toggleable__label-arrow:before {content: \"▸\";float: left;margin-right: 0.25em;color: #696969;}#sk-container-id-3 label.sk-toggleable__label-arrow:hover:before {color: black;}#sk-container-id-3 div.sk-estimator:hover label.sk-toggleable__label-arrow:before {color: black;}#sk-container-id-3 div.sk-toggleable__content {max-height: 0;max-width: 0;overflow: hidden;text-align: left;background-color: #f0f8ff;}#sk-container-id-3 div.sk-toggleable__content pre {margin: 0.2em;color: black;border-radius: 0.25em;background-color: #f0f8ff;}#sk-container-id-3 input.sk-toggleable__control:checked~div.sk-toggleable__content {max-height: 200px;max-width: 100%;overflow: auto;}#sk-container-id-3 input.sk-toggleable__control:checked~label.sk-toggleable__label-arrow:before {content: \"▾\";}#sk-container-id-3 div.sk-estimator input.sk-toggleable__control:checked~label.sk-toggleable__label {background-color: #d4ebff;}#sk-container-id-3 div.sk-label input.sk-toggleable__control:checked~label.sk-toggleable__label {background-color: #d4ebff;}#sk-container-id-3 input.sk-hidden--visually {border: 0;clip: rect(1px 1px 1px 1px);clip: rect(1px, 1px, 1px, 1px);height: 1px;margin: -1px;overflow: hidden;padding: 0;position: absolute;width: 1px;}#sk-container-id-3 div.sk-estimator {font-family: monospace;background-color: #f0f8ff;border: 1px dotted black;border-radius: 0.25em;box-sizing: border-box;margin-bottom: 0.5em;}#sk-container-id-3 div.sk-estimator:hover {background-color: #d4ebff;}#sk-container-id-3 div.sk-parallel-item::after {content: \"\";width: 100%;border-bottom: 1px solid gray;flex-grow: 1;}#sk-container-id-3 div.sk-label:hover label.sk-toggleable__label {background-color: #d4ebff;}#sk-container-id-3 div.sk-serial::before {content: \"\";position: absolute;border-left: 1px solid gray;box-sizing: border-box;top: 0;bottom: 0;left: 50%;z-index: 0;}#sk-container-id-3 div.sk-serial {display: flex;flex-direction: column;align-items: center;background-color: white;padding-right: 0.2em;padding-left: 0.2em;position: relative;}#sk-container-id-3 div.sk-item {position: relative;z-index: 1;}#sk-container-id-3 div.sk-parallel {display: flex;align-items: stretch;justify-content: center;background-color: white;position: relative;}#sk-container-id-3 div.sk-item::before, #sk-container-id-3 div.sk-parallel-item::before {content: \"\";position: absolute;border-left: 1px solid gray;box-sizing: border-box;top: 0;bottom: 0;left: 50%;z-index: -1;}#sk-container-id-3 div.sk-parallel-item {display: flex;flex-direction: column;z-index: 1;position: relative;background-color: white;}#sk-container-id-3 div.sk-parallel-item:first-child::after {align-self: flex-end;width: 50%;}#sk-container-id-3 div.sk-parallel-item:last-child::after {align-self: flex-start;width: 50%;}#sk-container-id-3 div.sk-parallel-item:only-child::after {width: 0;}#sk-container-id-3 div.sk-dashed-wrapped {border: 1px dashed gray;margin: 0 0.4em 0.5em 0.4em;box-sizing: border-box;padding-bottom: 0.4em;background-color: white;}#sk-container-id-3 div.sk-label label {font-family: monospace;font-weight: bold;display: inline-block;line-height: 1.2em;}#sk-container-id-3 div.sk-label-container {text-align: center;}#sk-container-id-3 div.sk-container {/* jupyter's `normalize.less` sets `[hidden] { display: none; }` but bootstrap.min.css set `[hidden] { display: none !important; }` so we also need the `!important` here to be able to override the default hidden behavior on the sphinx rendered scikit-learn.org. See: https://github.com/scikit-learn/scikit-learn/issues/21755 */display: inline-block !important;position: relative;}#sk-container-id-3 div.sk-text-repr-fallback {display: none;}</style><div id=\"sk-container-id-3\" class=\"sk-top-container\"><div class=\"sk-text-repr-fallback\"><pre>KNeighborsRegressor(n_neighbors=13, p=1)</pre><b>In a Jupyter environment, please rerun this cell to show the HTML representation or trust the notebook. <br />On GitHub, the HTML representation is unable to render, please try loading this page with nbviewer.org.</b></div><div class=\"sk-container\" hidden><div class=\"sk-item\"><div class=\"sk-estimator sk-toggleable\"><input class=\"sk-toggleable__control sk-hidden--visually\" id=\"sk-estimator-id-3\" type=\"checkbox\" checked><label for=\"sk-estimator-id-3\" class=\"sk-toggleable__label sk-toggleable__label-arrow\">KNeighborsRegressor</label><div class=\"sk-toggleable__content\"><pre>KNeighborsRegressor(n_neighbors=13, p=1)</pre></div></div></div></div></div>"
            ]
          },
          "metadata": {},
          "execution_count": 102
        }
      ]
    },
    {
      "cell_type": "code",
      "source": [
        "y_pred = model.predict(x_test)"
      ],
      "metadata": {
        "id": "bB6hq3O4B3hL"
      },
      "execution_count": null,
      "outputs": []
    },
    {
      "cell_type": "code",
      "source": [
        "submission = pd.DataFrame()\n",
        "submission['record_ID'] = x_test['record_ID']\n",
        "submission['units_sold_float'] = y_pred\n",
        "submission['units_sold'] = y_pred.astype(int)"
      ],
      "metadata": {
        "id": "J4PH6CiuCkBx"
      },
      "execution_count": null,
      "outputs": []
    },
    {
      "cell_type": "code",
      "source": [
        "submission.to_csv('submission_my.csv')"
      ],
      "metadata": {
        "id": "GQkB7jrlC-u8"
      },
      "execution_count": null,
      "outputs": []
    }
  ]
}